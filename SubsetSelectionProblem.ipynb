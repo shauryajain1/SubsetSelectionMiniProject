{
  "nbformat": 4,
  "nbformat_minor": 0,
  "metadata": {
    "colab": {
      "provenance": [],
      "authorship_tag": "ABX9TyP1htABAavTbp2kVPIfpEWs",
      "include_colab_link": true
    },
    "kernelspec": {
      "name": "python3",
      "display_name": "Python 3"
    },
    "language_info": {
      "name": "python"
    }
  },
  "cells": [
    {
      "cell_type": "markdown",
      "metadata": {
        "id": "view-in-github",
        "colab_type": "text"
      },
      "source": [
        "<a href=\"https://colab.research.google.com/github/shauryajain1/SubsetSelectionMiniProject/blob/main/SubsetSelectionProblem.ipynb\" target=\"_parent\"><img src=\"https://colab.research.google.com/assets/colab-badge.svg\" alt=\"Open In Colab\"/></a>"
      ]
    },
    {
      "cell_type": "code",
      "execution_count": 1,
      "metadata": {
        "colab": {
          "base_uri": "https://localhost:8080/"
        },
        "id": "__O5Z7n0i9TN",
        "outputId": "03de746e-2842-4e4a-a2b4-978482db8878"
      },
      "outputs": [
        {
          "output_type": "stream",
          "name": "stdout",
          "text": [
            "(6, -4, -5, -8, 11)\n",
            "(2, 9, -8, 3, -6)\n",
            "(-2, 11, -4, 2, -7)\n",
            "(9, -8, -6, 7, -2)\n",
            "(7, -5, -9, 6, 1)\n",
            "(3, -7, -6, 1, 9)\n",
            "(11, 3, -12, 2, -4)\n",
            "(-9, -7, -2, 7, 11)\n",
            "(1, 2, -8, -2, 7)\n",
            "(6, -3, 7, -12, 2)\n",
            "(-9, -6, 11, 9, -5)\n",
            "(-9, 7, -3, -4, 9)\n",
            "(-9, 9, -5, 7, -2)\n",
            "(1, 2, -6, -3, 6)\n",
            "(-6, 2, 3, 9, -8)\n",
            "(-2, 6, -6, -7, 9)\n",
            "(-5, -7, 2, 9, 1)\n",
            "(-7, -3, -2, 9, 3)\n",
            "(2, -7, -2, 11, -4)\n",
            "(1, -3, 7, -7, 2)\n",
            "(2, -9, 11, 3, -7)\n",
            "(-3, -8, -2, 11, 2)\n",
            "(1, 7, 6, -6, -8)\n",
            "\n",
            "Total Sets:  23\n"
          ]
        },
        {
          "output_type": "stream",
          "name": "stderr",
          "text": [
            "<ipython-input-1-1e147bae9976>:22: DeprecationWarning: Sampling from a set deprecated\n",
            "since Python 3.9 and will be removed in a subsequent version.\n",
            "  Chromosome = r.sample(Set,SetSize)\n"
          ]
        }
      ],
      "source": [
        "#-------------------------------------------------------------\n",
        "# Step 1: Library inclusion                             \n",
        "#-------------------------------------------------------------\n",
        "import random as r\n",
        "\n",
        "#-------------------------------------------------------------\n",
        "# Step 2: Parameter Setting\n",
        "#-------------------------------------------------------------\n",
        "Set         = set([-12, -3, -6, 7, 2, -2, 6, 3, 9, -7, -5, -8, 1, 11, -9, -4])\n",
        "SetSize     = 5\n",
        "ResultList  = set()    # Store Result List i.e. list of sets whose sum is zero\n",
        "Iterations  = 1000   # Number of Inerations\n",
        "\n",
        "\n",
        "#-------------------------------------------------------------\n",
        "# Step3: Start Program\n",
        "#-------------------------------------------------------------\n",
        "\n",
        "# Loop till number of Iterations\n",
        "for i in range(Iterations):\n",
        "    # Select number of elements from Set\n",
        "    Chromosome = r.sample(Set,SetSize)\n",
        "\n",
        "    # Sum the number of elements in the Chromosome\n",
        "    if sum(Chromosome) == 0:\n",
        "        ResultList.add(tuple(Chromosome))\n",
        "\n",
        "# Print all the sets whose sum is zero\n",
        "for r in ResultList:\n",
        "\tprint (r)\n",
        "\n",
        "# Print total sets\n",
        "print (\"\\nTotal Sets: \", len(ResultList))\n"
      ]
    }
  ]
}